{
 "cells": [
  {
   "cell_type": "markdown",
   "metadata": {},
   "source": [
    "## 正则表达式练习"
   ]
  },
  {
   "cell_type": "markdown",
   "metadata": {},
   "source": [
    "### 抓取qq音乐查询"
   ]
  },
  {
   "cell_type": "markdown",
   "metadata": {},
   "source": [
    "###### 正则表达式"
   ]
  },
  {
   "cell_type": "code",
   "execution_count": 130,
   "metadata": {},
   "outputs": [
    {
     "name": "stdout",
     "output_type": "stream",
     "text": [
      "\":2,\"icons\":139132,\"msg\":16,\"switch\":636675},\"album\":{\"id\":666206,\"mid\":\"004NXLBx4K0r87\",\"name\":\"好安静\",\"subtitle\":\"\",\"title\":\"好安静\",\"title_hilight\":\"好安静\"},\"chinesesinger\":0,\"desc\":\"\",\"desc_hilight\":\"\",\"docid\":\"2152337526001607486\",\"file\":{\"b_30s\":0,\"e_30s\":60000,\"media_mid\":\"000wkTbk3kaHCk\",\"size_128\":3291636,\"size_128mp3\":3291636,\"size_320\":8228689,\"size_320mp3\":8228689,\"size_aac\":4723987,\"size_ape\":22140360,\"size_dts\":0,\"size_flac\":22720730,\"size_ogg\":4613469,\"size_try\":960887,\"strMediaMid\":\"000wkTbk3kaHCk\",\"try_begin\":59060,\"try_end\":84595},\"fnote\":4009,\"genre\":1,\"grp\":[{\"action\":{\"alert\":0,\"icons\":524289,\"msg\":3,\"switch\":65537},\"album\":{\"id\":92345,\"mid\":\"002MPPZa3fSxjt\",\"name\":\"新版倩女幽魂之还泪\",\"subtitle\":\"\",\"title\":\"新版倩女幽魂之还泪\",\"title_hilight\":\"新版倩女幽魂之还泪\"},\"chinesesinger\":0,\"desc\":\"\",\"desc_hilight\":\"\",\"docid\":\"12815251563648637511\",\"file\":{\"b_30s\":0,\"e_30s\":60000,\"media_mid\":\"000wkTbk3kaHCk\",\"size_128\":3291636,\"size_128mp3\":3291636,\"size_320\":8228689,\"size_320mp3\":8228689,\"size_aac\":4723987,\"size_ape\":22140360,\"size_dts\":0,\"size_flac\":22720730,\"size_ogg\":4613469,\"size_try\":960887,\"strMediaMid\":\"000wkTbk3kaHCk\",\"try_begin\":59060,\"try_end\":84595},\"fnote\":4011,\"genre\":1,\"id\":1086851,\"index_album\":37,\"index_cd\":2,\"interval\":205,\"isonly\":0,\"ksong\":{\"id\":1716,\"mid\":\"002jlraV3AlspU\"},\"language\":0,\"lyric\":\"\",\"lyric_hilight\":\"\",\"mid\":\"001w221U1vaH4K\",\"mv\":{\"id\":138448,\"vid\":\"d0010YBMZpQ\"},\"name\":\"不分手的恋爱\",\"newStatus\":2,\"nt\":223532402,\"pay\":{\"pay_down\":0,\"pay_month\":0,\"pay_play\":0,\"pay_status\":0,\"price_album\":0,\"price_track\":0,\"time_free\":0},\"pure\":0,\"singer\":[{\"id\":3954,\"mid\":\"001z2JmX09LLgL\",\"name\":\"汪苏泷\",\"title\":\"汪苏泷\",\"title_hilight\":\"<em>汪苏泷</em>\",\"type\":0,\"uin\":0}],\"status\":0,\"subtitle\":\"\",\"t\":1,\"tag\":10,\"time_public\":\"2011-06-27\",\"title\":\"不分手的恋爱\",\"title_hilight\":\"不分手的恋爱\",\"type\":0,\"url\":\"http://stream10.qqmusic.qq.com/1086851.wma\",\"ver\":0,\"\n"
     ]
    },
    {
     "data": {
      "text/plain": [
       "\"\\nalbum = res[1]\\nmid = res[2]\\nauthor = res[3]\\ntime = res[4]\\nmusic = res[5]\\n\\nfor result in res:\\n    album , mid , author , time , music = result\\n    print (music , album , author , time , 'https://y.qq.com/n/yqq/song/'+ mid + '.html')\\n\""
      ]
     },
     "execution_count": 130,
     "metadata": {},
     "output_type": "execute_result"
    }
   ],
   "source": [
    "import requests\n",
    "import re\n",
    "res = requests.get('https://c.y.qq.com/soso/fcgi-bin/client_search_cp?&qqmusic_ver=1298&new_json=1&p=1&n=8&aggr=1&w=汪苏泷').text\n",
    "#regx = re.compile('action(.*?)volume',re.S)\n",
    "res = re.findall('{\"action\":{\"alert(.*?)volume',res,re.S)\n",
    "print (res[3])\n",
    "#print (len(res))\n",
    "'''\n",
    "album = res[1]\n",
    "mid = res[2]\n",
    "author = res[3]\n",
    "time = res[4]\n",
    "music = res[5]\n",
    "\n",
    "for result in res:\n",
    "    album , mid , author , time , music = result\n",
    "    print (music , album , author , time , 'https://y.qq.com/n/yqq/song/'+ mid + '.html')\n",
    "'''"
   ]
  },
  {
   "cell_type": "code",
   "execution_count": 143,
   "metadata": {},
   "outputs": [
    {
     "name": "stdout",
     "output_type": "stream",
     "text": [
      "星星坠落时 (Live) 我是唱作人 第11期 汪苏泷 2019-06-21 https://y.qq.com/n/yqq/song/002bzdZy3no1cS.html\n",
      "指尖江湖 剑网3·踏歌江湖 汪苏泷 2019-06-19 https://y.qq.com/n/yqq/song/000NGFvy18hKeY.html\n",
      "耿 耿 汪苏泷 2019-05-29 https://y.qq.com/n/yqq/song/001cG7uR1Igu37.html\n",
      "不分手的恋爱 好安静 汪苏泷 2011-06-27 https://y.qq.com/n/yqq/song/001w221U1vaH4K.html\n",
      "忽而今夏 (Live)  汪苏泷 2018-05-24 https://y.qq.com/n/yqq/song/001wVAmp2x64Q5.html\n",
      "小星星 (Remix) 慢慢懂 汪苏泷 2010-11-19 https://y.qq.com/n/yqq/song/000u2i4p13GLld.html\n",
      "一笑倾城 (Live) 一起哈啤音乐派对 北京站 汪苏泷 2018-05-24 https://y.qq.com/n/yqq/song/003l0FyE2eoM3Q.html\n",
      "苦笑 空 汪苏泷 2011-08-04 https://y.qq.com/n/yqq/song/003otAKD1TzKRA.html\n"
     ]
    }
   ],
   "source": [
    "import requests\n",
    "import re\n",
    "res = requests.get('https://c.y.qq.com/soso/fcgi-bin/client_search_cp?&qqmusic_ver=1298&new_json=1&p=1&n=8&aggr=1&w=汪苏泷').text\n",
    "#regx = re.compile('action(.*?)volume',re.S)\n",
    "res = re.findall('action.*?\"name\":\"(.*?)\",\"subtitle.*?\"grp\".*?language.*?mid\":\"(.*?)\",\"mv.*?singer.*?name\":\"(.*?)\",\"title.*?time_public\":\"(.*?)\",\"title\":\"(.*?)\",\"title_hilight.*?\"ver\":0,\"volume',res,re.S)\n",
    "#print (res[4])\n",
    "#print (len(res))\n",
    "\n",
    "'''\n",
    "album = res[1]\n",
    "mid = res[2]\n",
    "author = res[3]\n",
    "time = res[4]\n",
    "music = res[5]\n",
    "'''\n",
    "for result in res:\n",
    "    album , mid , author , time , music = result\n",
    "    print (music , album , author , time , 'https://y.qq.com/n/yqq/song/'+ mid + '.html')\n"
   ]
  },
  {
   "cell_type": "markdown",
   "metadata": {},
   "source": [
    "#### beautifulsoup"
   ]
  },
  {
   "cell_type": "code",
   "execution_count": 225,
   "metadata": {},
   "outputs": [
    {
     "name": "stdout",
     "output_type": "stream",
     "text": [
      "歌曲名：有何不可地址： https://y.qq.com/n/yqq/song/002mZevo3wHvsc.html 时长：04:01\n",
      "专辑名：自定义 地址： https://y.qq.com/n/yqq/album/002KSDg90IaScI.html\n",
      "\n",
      "歌曲名：素颜地址： https://y.qq.com/n/yqq/song/004Gq0xE1YC8xp.html 时长：04:01\n",
      "专辑名：素颜 地址： https://y.qq.com/n/yqq/album/0035f8nw11cjkf.html\n",
      "\n",
      "歌曲名：幻听地址： https://y.qq.com/n/yqq/song/003MUDkf30pS5B.html 时长：04:33\n",
      "专辑名：梦游计 地址： https://y.qq.com/n/yqq/album/004RbL3b0BDIe2.html\n",
      "\n",
      "歌曲名：断桥残雪地址： https://y.qq.com/n/yqq/song/004ENQPZ0dHaqy.html 时长：03:47\n",
      "专辑名：Vae新歌+精选珍藏合辑 地址： https://y.qq.com/n/yqq/album/001jmC6x1RMfh0.html\n",
      "\n",
      "歌曲名：你若成风地址： https://y.qq.com/n/yqq/song/001xjGaz08GAGC.html 时长：03:41\n",
      "专辑名：Vae新歌+精选珍藏合辑 地址： https://y.qq.com/n/yqq/album/001jmC6x1RMfh0.html\n",
      "\n",
      "歌曲名：天龙八部之宿敌地址： https://y.qq.com/n/yqq/song/001bLkWD2EYA4P.html 时长：04:24\n",
      "专辑名：天龙八部之宿敌 地址： https://y.qq.com/n/yqq/album/002JzRQD2zjvxG.html\n",
      "\n",
      "歌曲名：惊鸿一面地址： https://y.qq.com/n/yqq/song/004Q419j1mysZ2.html 时长：04:16\n",
      "专辑名：不如吃茶去 地址： https://y.qq.com/n/yqq/album/000lCG1q4EGdV4.html\n",
      "\n",
      "歌曲名：如果当时地址： https://y.qq.com/n/yqq/song/003uh6Y81FI4Nv.html 时长：05:14\n",
      "专辑名：自定义 地址： https://y.qq.com/n/yqq/album/002KSDg90IaScI.html\n",
      "\n",
      "歌曲名：玫瑰花的葬礼地址： https://y.qq.com/n/yqq/song/003CMXGI2yRUDo.html 时长：04:19\n",
      "专辑名：Vae新歌+精选珍藏合辑 地址： https://y.qq.com/n/yqq/album/001jmC6x1RMfh0.html\n",
      "\n",
      "歌曲名：灰色头像地址： https://y.qq.com/n/yqq/song/003cLs112yMAcW.html 时长：04:48\n",
      "专辑名：寻雾启示 地址： https://y.qq.com/n/yqq/album/002CJON012PxwU.html\n",
      "\n"
     ]
    }
   ],
   "source": [
    "import urllib.request\n",
    "from bs4 import BeautifulSoup\n",
    "res = urllib.request.urlopen('https://y.qq.com/n/yqq/singer/000CK5xN3yZDJt.html').read().decode('utf-8')\n",
    "bs = BeautifulSoup(res,'lxml')\n",
    "res1 = bs.select('.songlist__list li .songlist__songname_txt')\n",
    "res2 = bs.select('.songlist__list li .songlist__album')\n",
    "res3 = bs.select('.songlist__list li .songlist__time')\n",
    "#index = 0\n",
    "for index in range(len(res1)):\n",
    "    #print ('歌曲名：' + res1[0].a['title'] , '地址：' + ' https:' + res1[0].a['href'] , '时长：'+res3[0].text)\n",
    "    #print ('专辑名：' + res2[0].a['title'] , '地址：' + ' https:' + res2[0].a['href'])\n",
    "    print ('歌曲名：' + res1[index].a['title'] + '地址：' + ' https:'+ res1[index].a['href'] , '时长：'+ res3[index].text)\n",
    "    print ('专辑名：' + res2[index].a['title'] , '地址：' + ' https:' + res2[index].a['href'] + '\\n')\n",
    "    #index += 1\n",
    "    #print(index)\n",
    "        \n",
    "        "
   ]
  },
  {
   "cell_type": "code",
   "execution_count": 13,
   "metadata": {},
   "outputs": [
    {
     "name": "stdout",
     "output_type": "stream",
     "text": [
      "<html><body><li>123</li></body></html>\n"
     ]
    }
   ],
   "source": [
    "from bs4 import BeautifulSoup\n",
    "\n",
    "html = '<li>123</li>'\n",
    "res = BeautifulSoup(html,'lxml')\n",
    "print (res)"
   ]
  },
  {
   "cell_type": "code",
   "execution_count": 228,
   "metadata": {},
   "outputs": [
    {
     "name": "stdout",
     "output_type": "stream",
     "text": [
      "6\n"
     ]
    }
   ],
   "source": [
    "\n",
    "for x in range(5):\n",
    "    x += 1\n",
    "print (x+1)"
   ]
  },
  {
   "cell_type": "code",
   "execution_count": 249,
   "metadata": {},
   "outputs": [
    {
     "name": "stdout",
     "output_type": "stream",
     "text": [
      "{\"req_0\":{\"data\":{\"expiration\":80400,\"login_key\":\"\",\"midurlinfo\":[{\"common_downfromtag\":0,\"errtype\":\"\",\"filename\":\"C400003uh6Y81FI4Nv.m4a\",\"flowfromtag\":\"\",\"flowurl\":\"\",\"hisbuy\":0,\"hisdown\":0,\"isbuy\":0,\"isonly\":0,\"onecan\":0,\"opi128kurl\":\"\",\"opi192koggurl\":\"\",\"opi192kurl\":\"\",\"opi30surl\":\"\",\"opi48kurl\":\"\",\"opi96kurl\":\"\",\"opiflackurl\":\"\",\"p2pfromtag\":0,\"pdl\":0,\"pneed\":0,\"pneedbuy\":0,\"premain\":0,\"purl\":\"C400003uh6Y81FI4Nv.m4a?guid=3094068815&vkey=E5C4F9EF811A1DEF8BB8CB25BFA5579CC2E055F5FA04D3453EAA39CBC73ECE930EA732ED6E1D3261DB2932AB39C8D825EA0A1AA8DB9B6E18&uin=0&fromtag=66\",\"qmdlfromtag\":0,\"result\":0,\"songmid\":\"003uh6Y81FI4Nv\",\"tips\":\"\",\"uiAlert\":0,\"vip_downfromtag\":0,\"vkey\":\"E5C4F9EF811A1DEF8BB8CB25BFA5579CC2E055F5FA04D3453EAA39CBC73ECE930EA732ED6E1D3261DB2932AB39C8D825EA0A1AA8DB9B6E18\",\"wififromtag\":\"\",\"wifiurl\":\"\"}],\"msg\":\"106.88.14.210\",\"retcode\":0,\"servercheck\":\"951e28dfa137b7a40d9402202a274dc5\",\"sip\":[\"http://dl.stream.qqmusic.qq.com/\",\"http://isure.stream.qqmusic.qq.com/\"],\"testfile2g\":\"C400003mAan70zUy5O.m4a?guid=3094068815&vkey=E223E92FD8A0F90CC822F4450A1F9A3EA1FDFC141E26B9FE1683820A7816397F4D0C77B3C980C3E291C2CCACFFFC16F919B1566953F1FBA8&uin=&fromtag=3\",\"testfilewifi\":\"C400003mAan70zUy5O.m4a?guid=3094068815&vkey=E223E92FD8A0F90CC822F4450A1F9A3EA1FDFC141E26B9FE1683820A7816397F4D0C77B3C980C3E291C2CCACFFFC16F919B1566953F1FBA8&uin=&fromtag=3\",\"thirdip\":[\"\",\"\"],\"uin\":\"\",\"verify_type\":0},\"code\":0},\"code\":0,\"ts\":1561273955424}\n"
     ]
    }
   ],
   "source": [
    "import requests \n",
    "guid = '3094068815'\n",
    "songmid = '003uh6Y81FI4Nv'\n",
    "data = '&data={\"req_0\":{\"module\":\"vkey.GetVkeyServer\",\"method\":\"CgiGetVkey\",\"param\":{\"guid\":\"' + guid +'\",\"songmid\":[\"'+ songmid +'\"],\"songtype\":[0],\"uin\":\"0\",\"loginflag\":1,\"platform\":\"20\"}},\"comm\":{\"uin\":0,\"format\":\"json\",\"ct\":24,\"cv\":0}}'\n",
    "headers = {\n",
    "    'user-agent' : 'Mozilla/5.0 (X11; Linux x86_64) AppleWebKit/537.36 (KHTML, like Gecko) Chrome/75.0.3770.100 Safari/537.36'\n",
    "}\n",
    "res = requests.get('https://u.y.qq.com/cgi-bin/musicu.fcg?', data)\n",
    "#res = requests.get('http://httpbin.org/get', data)\n",
    "print (res.text)"
   ]
  },
  {
   "cell_type": "code",
   "execution_count": 148,
   "metadata": {},
   "outputs": [
    {
     "name": "stdout",
     "output_type": "stream",
     "text": [
      "  歌曲名: 千年  歌手: 金志文 专辑：天乩之白蛇传说 影视原声带 歌曲时间：2018-07-05\n",
      "  歌曲链接： http://dl.stream.qqmusic.qq.com/C400003jaSM148ORfL.m4a?guid=3094068815&vkey=719F1EFEA8FA271839D1533DAC09D58AD7CA6BCB0E39ED039751B345496700BEEDF38037E437CF862518BFFE4CA81FECE5193CAB26E7EE53&uin=0&fromtag=66\n",
      "  歌曲名: 几生欢  歌手: 杨紫 专辑：几生欢 歌曲时间：2018-07-09\n",
      "  歌曲链接： http://dl.stream.qqmusic.qq.com/C400001AjLx4105Gcp.m4a?guid=3094068815&vkey=FFF04AD5DFD71BCAB52AD00C8F7A21F8B2C04F0F08651ABC2F0873D3D7C701CE4C12CFCF374DC80A5B68DDFE6C53F967871EEF5570139FD5&uin=0&fromtag=66\n",
      "  歌曲名: 独白  歌手: 周深 专辑：天乩之白蛇传说 影视原声带 歌曲时间：2018-07-05\n",
      "  歌曲链接： http://dl.stream.qqmusic.qq.com/C400003QsqAL4ax1OW.m4a?guid=3094068815&vkey=A57E50165370BE4953AE1D0D785FEB5A8920E698044751FFB875872AEF2CCF62F005AF7EB339D4D311DBC372FEA2B7145A29BEBECA8F75BC&uin=0&fromtag=66\n",
      "  歌曲名: 流年  歌手: 何洁 专辑：天乩之白蛇传说 影视原声带 歌曲时间：2018-07-05\n",
      "  歌曲链接： http://dl.stream.qqmusic.qq.com/C400001dW3Ij1AEplG.m4a?guid=3094068815&vkey=5F16B163C3DED74E47F6369A7576F8D4B777763F07B6C7F2D92797BA781CA0365C57764D20EDD07A14D15ACA8905CEB4BC2EB5512DA25DE2&uin=0&fromtag=66\n",
      "  歌曲名: 凡心  歌手: 董真 专辑：凡心 歌曲时间：2018-07-05\n",
      "  歌曲链接： http://dl.stream.qqmusic.qq.com/C400000bweKB1SbjK5.m4a?guid=3094068815&vkey=F05FFEEE5970805FF342D01241F378D00B61059CA2F545DFDF6135AB4C6D6AE95F86DBEDF6A7955E820A64215B2890BF8255B10F6695379E&uin=0&fromtag=66\n",
      "  歌曲名: 弱水  歌手: 任贤齐 专辑：弱水 歌曲时间：2018-07-04\n",
      "  歌曲链接： http://dl.stream.qqmusic.qq.com/C4000024ywoS0NmVU9.m4a?guid=3094068815&vkey=FFA38A364D6A731ADF82939F494360B19E873731623FCEFF2DBEB6D0C37A32DFABBCD026B2C6223DDEDB31F8CDBB1EE2B1104F9E4495B452&uin=0&fromtag=66\n",
      "  歌曲名: 独白  歌手: 音频怪物 专辑：天乩之白蛇传说 影视原声带 歌曲时间：2018-07-05\n",
      "  歌曲链接： http://dl.stream.qqmusic.qq.com/C400003RUV6V1AD2W7.m4a?guid=3094068815&vkey=EB9AEC5FAA8A22586C369F85D8841F1229AC9FC1ACC8CBC580E0F6573029FE17DEBCE00A128AC681176B7B1FBBDC84E776AF2B849176BB5C&uin=0&fromtag=66\n",
      "  歌曲名: 天乩  歌手: 原声带 专辑： 歌曲时间：\n",
      "  歌曲链接： http://dl.stream.qqmusic.qq.com/C400002CcS2X3XHTZr.m4a?guid=3094068815&vkey=31E6AEEEED4A5476B2F9CB226CDF409FD0A3FC2BEC75DB5BEE20A5A43AFB05E6C5EDCC69B4212DD68AD69C8A26FD33DF4B058E3052740169&uin=0&fromtag=66\n",
      "  歌曲名: 天乩之战  歌手: 麦振鸿 专辑：天乩之白蛇传说-麦振鸿原创音乐作品2018 歌曲时间：2018-07-08\n",
      "  歌曲链接： http://dl.stream.qqmusic.qq.com/C40000149Itg0pk8zw.m4a?guid=3094068815&vkey=5759E9B70B8AB59159FF4390AF9F633FF4D07B816C4512982E469CBF039510BD4CC4718F56042870BBBFDF340366FA579946A5C220DB36CA&uin=0&fromtag=66\n",
      "  歌曲名: 千年  歌手: 马乐 专辑：千年 歌曲时间：2019-02-18\n",
      "  歌曲链接： http://dl.stream.qqmusic.qq.com/C400002bKShu0CI5dW.m4a?guid=3094068815&vkey=A0C44995BD0FC5506EFB30A738DF3CFBDC20A604549B42676FD2F7E9087D8766A4E28135069753D1ECBC3E59E538F632C197533E85436913&uin=0&fromtag=66\n"
     ]
    }
   ],
   "source": [
    "import requests\n",
    "import re\n",
    "guid = '3094068815'\n",
    "headers = {\n",
    "    'user-agent' : 'Mozilla/5.0 (X11; Linux x86_64) AppleWebKit/537.36 (KHTML, like Gecko) Chrome/75.0.3770.100 Safari/537.36'\n",
    "}\n",
    "song_name = '天乩'\n",
    "html_data = requests.get('https://c.y.qq.com/soso/fcgi-bin/client_search_cp?&qqmusic_ver=1298&new_json=1&p=1&n=10&aggr=1&w=' + song_name).text\n",
    "music_data = re.findall('action.*?\"name\":\"(.*?)\",\"subtitle.*?\"grp\".*?language.*?mid\":\"(.*?)\",\"mv.*?singer.*?name\":\"(.*?)\",\"title.*?time_public\":\"(.*?)\",\"title\":\"(.*?)\",\"title_hilight.*?\"ver\":0,\"volume', html_data , re.S)\n",
    "\n",
    "for music_list in music_data:\n",
    "    music_album , music_songmid , music_author , music_time , music_name = music_list\n",
    "    data = '&data={\"req_0\":{\"module\":\"vkey.GetVkeyServer\",\"method\":\"CgiGetVkey\",\"param\":{\"guid\":\"' + guid +'\",\"songmid\":[\"'+ music_songmid +'\"],\"songtype\":[0],\"uin\":\"0\",\"loginflag\":1,\"platform\":\"20\"}},\"comm\":{\"uin\":0,\"format\":\"json\",\"ct\":24,\"cv\":0}}'\n",
    "    music_url_data = requests.get('https://u.y.qq.com/cgi-bin/musicu.fcg?', data)\n",
    "    music_url = re.findall('purl\":\"(.*?)\",\"qmdlfromtag', music_url_data.text ,re.S)\n",
    "    print ('  歌曲名: ' + music_name + '  歌手: ' + music_author + ' 专辑：' + music_album + ' 歌曲时间：' + music_time)\n",
    "    print ('  歌曲链接：' + ' http://dl.stream.qqmusic.qq.com/' + music_url[0])\n",
    "    #    print (music , album , author , time , 'https://y.qq.com/n/yqq/song/'+ mid + '.html')\n"
   ]
  }
 ],
 "metadata": {
  "kernelspec": {
   "display_name": "Python 3",
   "language": "python",
   "name": "python3"
  },
  "language_info": {
   "codemirror_mode": {
    "name": "ipython",
    "version": 3
   },
   "file_extension": ".py",
   "mimetype": "text/x-python",
   "name": "python",
   "nbconvert_exporter": "python",
   "pygments_lexer": "ipython3",
   "version": "3.6.8"
  }
 },
 "nbformat": 4,
 "nbformat_minor": 2
}
